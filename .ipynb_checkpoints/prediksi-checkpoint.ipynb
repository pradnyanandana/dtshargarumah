{
 "cells": [
  {
   "cell_type": "code",
   "execution_count": 60,
   "metadata": {
    "collapsed": true
   },
   "outputs": [],
   "source": [
    "# https://www.rumah.com/rumah-dijual/di-area-denpasar-idba06/1\n",
    "\n",
    "import matplotlib.pyplot as plt\n",
    "import matplotlib as mpl\n",
    "import importlib\n",
    "import pandas as pd\n",
    "import pylab as pl\n",
    "import numpy as np\n",
    "import warnings\n",
    "from sklearn.neural_network import MLPRegressor\n",
    "from sklearn.metrics import mean_absolute_error\n",
    "from sklearn.metrics import r2_score\n",
    "%matplotlib inline\n",
    "\n",
    "warnings.filterwarnings(\"ignore\")"
   ]
  },
  {
   "cell_type": "code",
   "execution_count": 61,
   "metadata": {
    "scrolled": true
   },
   "outputs": [
    {
     "data": {
      "text/html": [
       "<div>\n",
       "<style scoped>\n",
       "    .dataframe tbody tr th:only-of-type {\n",
       "        vertical-align: middle;\n",
       "    }\n",
       "\n",
       "    .dataframe tbody tr th {\n",
       "        vertical-align: top;\n",
       "    }\n",
       "\n",
       "    .dataframe thead th {\n",
       "        text-align: right;\n",
       "    }\n",
       "</style>\n",
       "<table border=\"1\" class=\"dataframe\">\n",
       "  <thead>\n",
       "    <tr style=\"text-align: right;\">\n",
       "      <th></th>\n",
       "      <th>deskripsi</th>\n",
       "      <th>luas_tanah(m2)</th>\n",
       "      <th>luas_bangunan(m2)</th>\n",
       "      <th>jumlah_kamar</th>\n",
       "      <th>jumlah_WC</th>\n",
       "      <th>harga</th>\n",
       "    </tr>\n",
       "  </thead>\n",
       "  <tbody>\n",
       "    <tr>\n",
       "      <th>0</th>\n",
       "      <td>Rumah baru lantai 1 di Jalan Kargo Permai , De...</td>\n",
       "      <td>115</td>\n",
       "      <td>110</td>\n",
       "      <td>3</td>\n",
       "      <td>2</td>\n",
       "      <td>1.550000e+09</td>\n",
       "    </tr>\n",
       "    <tr>\n",
       "      <th>1</th>\n",
       "      <td>Rumah minimalis di ayani utara denpasarLT: 80 ...</td>\n",
       "      <td>80</td>\n",
       "      <td>50</td>\n",
       "      <td>3</td>\n",
       "      <td>1</td>\n",
       "      <td>5.600000e+08</td>\n",
       "    </tr>\n",
       "    <tr>\n",
       "      <th>2</th>\n",
       "      <td>Rumah murah di Denpasar , Ubung Kaja , Cokroam...</td>\n",
       "      <td>100</td>\n",
       "      <td>37</td>\n",
       "      <td>2</td>\n",
       "      <td>1</td>\n",
       "      <td>8.500000e+08</td>\n",
       "    </tr>\n",
       "    <tr>\n",
       "      <th>3</th>\n",
       "      <td>MODERN PRESTIGE HOUSE! Perumahan Bali Arum Den...</td>\n",
       "      <td>300</td>\n",
       "      <td>228</td>\n",
       "      <td>3</td>\n",
       "      <td>3</td>\n",
       "      <td>3.100000e+09</td>\n",
       "    </tr>\n",
       "    <tr>\n",
       "      <th>4</th>\n",
       "      <td>Rumah Denpasar Bali Lingkungan Elit Full Furni...</td>\n",
       "      <td>600</td>\n",
       "      <td>650</td>\n",
       "      <td>5</td>\n",
       "      <td>5</td>\n",
       "      <td>1.650000e+10</td>\n",
       "    </tr>\n",
       "  </tbody>\n",
       "</table>\n",
       "</div>"
      ],
      "text/plain": [
       "                                           deskripsi  luas_tanah(m2)  \\\n",
       "0  Rumah baru lantai 1 di Jalan Kargo Permai , De...             115   \n",
       "1  Rumah minimalis di ayani utara denpasarLT: 80 ...              80   \n",
       "2  Rumah murah di Denpasar , Ubung Kaja , Cokroam...             100   \n",
       "3  MODERN PRESTIGE HOUSE! Perumahan Bali Arum Den...             300   \n",
       "4  Rumah Denpasar Bali Lingkungan Elit Full Furni...             600   \n",
       "\n",
       "   luas_bangunan(m2)  jumlah_kamar  jumlah_WC         harga  \n",
       "0                110             3          2  1.550000e+09  \n",
       "1                 50             3          1  5.600000e+08  \n",
       "2                 37             2          1  8.500000e+08  \n",
       "3                228             3          3  3.100000e+09  \n",
       "4                650             5          5  1.650000e+10  "
      ]
     },
     "execution_count": 61,
     "metadata": {},
     "output_type": "execute_result"
    }
   ],
   "source": [
    "df = pd.read_csv(\"data/rumah_data.csv\")\n",
    "\n",
    "# take a look at the dataset\n",
    "df.head()"
   ]
  },
  {
   "cell_type": "code",
   "execution_count": 62,
   "metadata": {},
   "outputs": [
    {
     "data": {
      "text/html": [
       "<div>\n",
       "<style scoped>\n",
       "    .dataframe tbody tr th:only-of-type {\n",
       "        vertical-align: middle;\n",
       "    }\n",
       "\n",
       "    .dataframe tbody tr th {\n",
       "        vertical-align: top;\n",
       "    }\n",
       "\n",
       "    .dataframe thead th {\n",
       "        text-align: right;\n",
       "    }\n",
       "</style>\n",
       "<table border=\"1\" class=\"dataframe\">\n",
       "  <thead>\n",
       "    <tr style=\"text-align: right;\">\n",
       "      <th></th>\n",
       "      <th>luas_tanah(m2)</th>\n",
       "      <th>luas_bangunan(m2)</th>\n",
       "      <th>jumlah_kamar</th>\n",
       "      <th>jumlah_WC</th>\n",
       "      <th>harga</th>\n",
       "    </tr>\n",
       "  </thead>\n",
       "  <tbody>\n",
       "    <tr>\n",
       "      <th>0</th>\n",
       "      <td>115</td>\n",
       "      <td>110</td>\n",
       "      <td>3</td>\n",
       "      <td>2</td>\n",
       "      <td>1.550000e+09</td>\n",
       "    </tr>\n",
       "    <tr>\n",
       "      <th>1</th>\n",
       "      <td>80</td>\n",
       "      <td>50</td>\n",
       "      <td>3</td>\n",
       "      <td>1</td>\n",
       "      <td>5.600000e+08</td>\n",
       "    </tr>\n",
       "    <tr>\n",
       "      <th>2</th>\n",
       "      <td>100</td>\n",
       "      <td>37</td>\n",
       "      <td>2</td>\n",
       "      <td>1</td>\n",
       "      <td>8.500000e+08</td>\n",
       "    </tr>\n",
       "    <tr>\n",
       "      <th>3</th>\n",
       "      <td>300</td>\n",
       "      <td>228</td>\n",
       "      <td>3</td>\n",
       "      <td>3</td>\n",
       "      <td>3.100000e+09</td>\n",
       "    </tr>\n",
       "    <tr>\n",
       "      <th>4</th>\n",
       "      <td>600</td>\n",
       "      <td>650</td>\n",
       "      <td>5</td>\n",
       "      <td>5</td>\n",
       "      <td>1.650000e+10</td>\n",
       "    </tr>\n",
       "  </tbody>\n",
       "</table>\n",
       "</div>"
      ],
      "text/plain": [
       "   luas_tanah(m2)  luas_bangunan(m2)  jumlah_kamar  jumlah_WC         harga\n",
       "0             115                110             3          2  1.550000e+09\n",
       "1              80                 50             3          1  5.600000e+08\n",
       "2             100                 37             2          1  8.500000e+08\n",
       "3             300                228             3          3  3.100000e+09\n",
       "4             600                650             5          5  1.650000e+10"
      ]
     },
     "execution_count": 62,
     "metadata": {},
     "output_type": "execute_result"
    }
   ],
   "source": [
    "df = df.dropna()\n",
    "df = df.drop(columns=['deskripsi'])\n",
    "df.head()"
   ]
  },
  {
   "cell_type": "code",
   "execution_count": 63,
   "metadata": {},
   "outputs": [
    {
     "data": {
      "text/plain": [
       "(744, 5)"
      ]
     },
     "execution_count": 63,
     "metadata": {},
     "output_type": "execute_result"
    }
   ],
   "source": [
    "df.shape"
   ]
  },
  {
   "cell_type": "code",
   "execution_count": 64,
   "metadata": {},
   "outputs": [
    {
     "data": {
      "text/html": [
       "<div>\n",
       "<style scoped>\n",
       "    .dataframe tbody tr th:only-of-type {\n",
       "        vertical-align: middle;\n",
       "    }\n",
       "\n",
       "    .dataframe tbody tr th {\n",
       "        vertical-align: top;\n",
       "    }\n",
       "\n",
       "    .dataframe thead th {\n",
       "        text-align: right;\n",
       "    }\n",
       "</style>\n",
       "<table border=\"1\" class=\"dataframe\">\n",
       "  <thead>\n",
       "    <tr style=\"text-align: right;\">\n",
       "      <th></th>\n",
       "      <th>luas_tanah(m2)</th>\n",
       "      <th>luas_bangunan(m2)</th>\n",
       "      <th>jumlah_kamar</th>\n",
       "      <th>jumlah_WC</th>\n",
       "      <th>harga</th>\n",
       "    </tr>\n",
       "  </thead>\n",
       "  <tbody>\n",
       "    <tr>\n",
       "      <th>count</th>\n",
       "      <td>744.000000</td>\n",
       "      <td>744.000000</td>\n",
       "      <td>744.000000</td>\n",
       "      <td>744.000000</td>\n",
       "      <td>7.440000e+02</td>\n",
       "    </tr>\n",
       "    <tr>\n",
       "      <th>mean</th>\n",
       "      <td>292.764785</td>\n",
       "      <td>198.251344</td>\n",
       "      <td>3.622312</td>\n",
       "      <td>2.952957</td>\n",
       "      <td>4.262762e+09</td>\n",
       "    </tr>\n",
       "    <tr>\n",
       "      <th>std</th>\n",
       "      <td>1840.268662</td>\n",
       "      <td>177.972785</td>\n",
       "      <td>1.870242</td>\n",
       "      <td>2.013866</td>\n",
       "      <td>3.593656e+10</td>\n",
       "    </tr>\n",
       "    <tr>\n",
       "      <th>min</th>\n",
       "      <td>50.000000</td>\n",
       "      <td>10.000000</td>\n",
       "      <td>1.000000</td>\n",
       "      <td>1.000000</td>\n",
       "      <td>1.300000e+06</td>\n",
       "    </tr>\n",
       "    <tr>\n",
       "      <th>25%</th>\n",
       "      <td>100.000000</td>\n",
       "      <td>80.000000</td>\n",
       "      <td>3.000000</td>\n",
       "      <td>2.000000</td>\n",
       "      <td>9.250000e+08</td>\n",
       "    </tr>\n",
       "    <tr>\n",
       "      <th>50%</th>\n",
       "      <td>132.000000</td>\n",
       "      <td>150.000000</td>\n",
       "      <td>3.000000</td>\n",
       "      <td>3.000000</td>\n",
       "      <td>1.650000e+09</td>\n",
       "    </tr>\n",
       "    <tr>\n",
       "      <th>75%</th>\n",
       "      <td>247.500000</td>\n",
       "      <td>250.000000</td>\n",
       "      <td>4.000000</td>\n",
       "      <td>4.000000</td>\n",
       "      <td>2.992500e+09</td>\n",
       "    </tr>\n",
       "    <tr>\n",
       "      <th>max</th>\n",
       "      <td>49950.000000</td>\n",
       "      <td>1200.000000</td>\n",
       "      <td>27.000000</td>\n",
       "      <td>27.000000</td>\n",
       "      <td>9.750000e+11</td>\n",
       "    </tr>\n",
       "  </tbody>\n",
       "</table>\n",
       "</div>"
      ],
      "text/plain": [
       "       luas_tanah(m2)  luas_bangunan(m2)  jumlah_kamar   jumlah_WC  \\\n",
       "count      744.000000         744.000000    744.000000  744.000000   \n",
       "mean       292.764785         198.251344      3.622312    2.952957   \n",
       "std       1840.268662         177.972785      1.870242    2.013866   \n",
       "min         50.000000          10.000000      1.000000    1.000000   \n",
       "25%        100.000000          80.000000      3.000000    2.000000   \n",
       "50%        132.000000         150.000000      3.000000    3.000000   \n",
       "75%        247.500000         250.000000      4.000000    4.000000   \n",
       "max      49950.000000        1200.000000     27.000000   27.000000   \n",
       "\n",
       "              harga  \n",
       "count  7.440000e+02  \n",
       "mean   4.262762e+09  \n",
       "std    3.593656e+10  \n",
       "min    1.300000e+06  \n",
       "25%    9.250000e+08  \n",
       "50%    1.650000e+09  \n",
       "75%    2.992500e+09  \n",
       "max    9.750000e+11  "
      ]
     },
     "execution_count": 64,
     "metadata": {},
     "output_type": "execute_result"
    }
   ],
   "source": [
    "# summarize the data\n",
    "df.describe()"
   ]
  },
  {
   "cell_type": "code",
   "execution_count": 65,
   "metadata": {},
   "outputs": [
    {
     "data": {
      "image/png": "[encoded data removed]",
      "text/plain": [
       "<matplotlib.figure.Figure at 0x132211c3710>"
      ]
     },
     "metadata": {},
     "output_type": "display_data"
    }
   ],
   "source": [
    "df.hist()\n",
    "plt.show()"
   ]
  },
  {
   "cell_type": "code",
   "execution_count": 66,
   "metadata": {},
   "outputs": [
    {
     "name": "stdout",
     "output_type": "stream",
     "text": [
      "[[115 110   3   2]\n",
      " [ 80  50   3   1]\n",
      " [100  37   2   1]\n",
      " [300 228   3   3]\n",
      " [600 650   5   5]]\n",
      "(744, 4)\n"
     ]
    }
   ],
   "source": [
    "X = np.asarray(df.drop(columns=['harga']))\n",
    "print(X[0:5])\n",
    "print(X.shape)"
   ]
  },
  {
   "cell_type": "code",
   "execution_count": 67,
   "metadata": {},
   "outputs": [
    {
     "name": "stdout",
     "output_type": "stream",
     "text": [
      "[1.55e+09 5.60e+08 8.50e+08 3.10e+09 1.65e+10]\n",
      "(744,)\n"
     ]
    }
   ],
   "source": [
    "Y = np.asarray(df[['harga']])\n",
    "Y = Y.reshape(Y.shape[0])\n",
    "print(Y[0:5])\n",
    "print(Y.shape)"
   ]
  },
  {
   "cell_type": "code",
   "execution_count": 68,
   "metadata": {},
   "outputs": [
    {
     "name": "stdout",
     "output_type": "stream",
     "text": [
      "Train set: (595, 4) (595,)\n",
      "Test set: (149, 4) (149,)\n"
     ]
    }
   ],
   "source": [
    "from sklearn.model_selection import train_test_split\n",
    "X_train, X_test, Y_train, Y_test = train_test_split( X, Y, test_size=0.2, random_state=4)\n",
    "print ('Train set:', X_train.shape,  Y_train.shape)\n",
    "print ('Test set:', X_test.shape,  Y_test.shape)"
   ]
  },
  {
   "cell_type": "code",
   "execution_count": 69,
   "metadata": {},
   "outputs": [
    {
     "data": {
      "text/plain": [
       "array([[-8.54012325e-02, -1.04388584e-01,  1.88257744e-01,\n",
       "         2.37727909e-02],\n",
       "       [-8.68639331e-02, -1.33058824e-01, -3.23218775e-01,\n",
       "         4.95266477e-01],\n",
       "       [ 5.01141732e-01,  4.02412595e+00,  3.25711686e+00,\n",
       "         3.32422860e+00],\n",
       "       [-1.16117946e-01, -7.92474340e-01, -8.34695295e-01,\n",
       "        -4.47720896e-01],\n",
       "       [-9.85655384e-02, -7.12197668e-01, -3.23218775e-01,\n",
       "        -4.47720896e-01],\n",
       "       [-1.01490940e-01, -7.35133860e-01, -3.23218775e-01,\n",
       "        -4.47720896e-01],\n",
       "       [-1.01490940e-01, -7.63804100e-01, -3.23218775e-01,\n",
       "        -4.47720896e-01],\n",
       "       [-1.11242277e-01, -8.61282915e-01, -8.34695295e-01,\n",
       "        -9.19214582e-01],\n",
       "       [-1.01490940e-01, -6.77793381e-01, -3.23218775e-01,\n",
       "        -9.19214582e-01],\n",
       "       [ 1.16245779e-02,  1.15710197e+00,  1.72268730e+00,\n",
       "         9.66760164e-01],\n",
       "       [-2.83559068e-02,  8.70399570e-01,  6.99734264e-01,\n",
       "         4.95266477e-01],\n",
       "       [-1.16117946e-01, -9.30091491e-01, -8.34695295e-01,\n",
       "        -9.19214582e-01],\n",
       "       [-7.71125954e-02, -2.76410023e-01,  1.88257744e-01,\n",
       "         2.37727909e-02],\n",
       "       [-1.01490940e-01, -3.33750503e-01,  1.88257744e-01,\n",
       "        -4.47720896e-01],\n",
       "       [-1.09292010e-01, -5.05771942e-01, -3.23218775e-01,\n",
       "        -4.47720896e-01],\n",
       "       [-1.01490940e-01, -8.78485059e-01, -8.34695295e-01,\n",
       "        -9.19214582e-01],\n",
       "       [-7.71125954e-02, -3.33750503e-01, -3.23218775e-01,\n",
       "         2.37727909e-02],\n",
       "       [-1.25381717e-01, -8.21144580e-01, -8.34695295e-01,\n",
       "        -4.47720896e-01],\n",
       "       [-9.71028378e-02, -7.92474340e-01, -3.23218775e-01,\n",
       "        -4.47720896e-01],\n",
       "       [-5.90726206e-02, -1.61729064e-01,  1.88257744e-01,\n",
       "         2.37727909e-02],\n",
       "       [-9.75904046e-02, -4.19761222e-01,  1.88257744e-01,\n",
       "         2.37727909e-02],\n",
       "       [-1.01490940e-01, -3.05080263e-01, -3.23218775e-01,\n",
       "        -4.47720896e-01],\n",
       "       [ 1.76422185e-01,  4.02412595e+00,  6.99734264e-01,\n",
       "         9.66760164e-01],\n",
       "       [-5.71223531e-02, -4.48431462e-01,  6.99734264e-01,\n",
       "         4.95266477e-01],\n",
       "       [-9.56401371e-02, -4.19761222e-01, -3.23218775e-01,\n",
       "         2.37727909e-02],\n",
       "       [-5.27342511e-02,  1.02923752e-02,  1.88257744e-01,\n",
       "         2.37727909e-02],\n",
       "       [-5.27342511e-02,  5.83697172e-01,  6.99734264e-01,\n",
       "         9.66760164e-01],\n",
       "       [-9.22271689e-02,  1.82313814e-01, -3.23218775e-01,\n",
       "         2.37727909e-02],\n",
       "       [-1.01490940e-01, -7.63804100e-01, -3.23218775e-01,\n",
       "        -4.47720896e-01],\n",
       "       [-6.54109901e-02, -2.19069543e-01, -3.23218775e-01,\n",
       "         4.95266477e-01],\n",
       "       [-1.06366609e-01, -6.20452901e-01, -3.23218775e-01,\n",
       "        -4.47720896e-01],\n",
       "       [-5.27342511e-02, -3.39484551e-01,  1.88257744e-01,\n",
       "         2.37727909e-02],\n",
       "       [ 2.69059894e-01,  2.76263540e+00,  1.21121078e+00,\n",
       "         1.43825385e+00],\n",
       "       [-9.17396020e-02, -7.92474340e-01, -3.23218775e-01,\n",
       "        -4.47720896e-01],\n",
       "       [-9.22271689e-02,  1.82313814e-01, -3.23218775e-01,\n",
       "         2.37727909e-02],\n",
       "       [-5.02964167e-02, -6.99842963e-02,  1.88257744e-01,\n",
       "         4.95266477e-01],\n",
       "       [ 2.23228607e-01,  4.55832721e-03,  6.99734264e-01,\n",
       "         4.95266477e-01],\n",
       "       [-1.16117946e-01, -9.30091491e-01, -8.34695295e-01,\n",
       "        -9.19214582e-01],\n",
       "       [ 2.52764507e-02,  1.44380437e+00,  1.21121078e+00,\n",
       "         9.66760164e-01],\n",
       "       [-1.01490940e-01, -7.92474340e-01, -8.34695295e-01,\n",
       "        -9.19214582e-01],\n",
       "       [-1.14167679e-01, -8.15410532e-01, -8.34695295e-01,\n",
       "        -9.19214582e-01],\n",
       "       [-1.22943883e-01, -8.49814820e-01, -8.34695295e-01,\n",
       "        -4.47720896e-01],\n",
       "       [-7.71125954e-02, -5.63112421e-01, -3.23218775e-01,\n",
       "        -4.47720896e-01],\n",
       "       [-9.66152709e-02, -6.20452901e-01,  6.99734264e-01,\n",
       "         1.43825385e+00],\n",
       "       [-1.08804443e-01, -8.78485059e-01, -8.34695295e-01,\n",
       "        -9.19214582e-01],\n",
       "       [-1.01490940e-01, -4.48431462e-01, -3.23218775e-01,\n",
       "        -4.47720896e-01],\n",
       "       [-6.44358564e-02,  3.54335253e-01,  1.88257744e-01,\n",
       "         2.37727909e-02],\n",
       "       [-7.66250285e-02, -2.76410023e-01,  1.88257744e-01,\n",
       "         2.37727909e-02],\n",
       "       [-8.19882643e-02,  1.02923752e-02, -3.23218775e-01,\n",
       "         4.95266477e-01],\n",
       "       [-1.01490940e-01, -4.19761222e-01,  1.88257744e-01,\n",
       "        -4.47720896e-01],\n",
       "       [-1.16605513e-01, -9.07155299e-01, -8.34695295e-01,\n",
       "        -9.19214582e-01],\n",
       "       [-7.80877292e-02,  1.02923752e-02,  1.88257744e-01,\n",
       "         9.66760164e-01],\n",
       "       [ 1.17914159e-01,  1.44380437e+00,  6.99734264e-01,\n",
       "         9.66760164e-01],\n",
       "       [-5.27342511e-02,  1.04242101e+00,  1.88257744e-01,\n",
       "         2.37727909e-02],\n",
       "       [ 6.91574705e-02,  1.02923752e-02,  1.88257744e-01,\n",
       "         4.95266477e-01],\n",
       "       [-9.90531053e-02, -2.76410023e-01, -3.23218775e-01,\n",
       "        -4.47720896e-01],\n",
       "       [-1.25869284e-01, -9.07155299e-01, -8.34695295e-01,\n",
       "        -9.19214582e-01],\n",
       "       [ 9.35358148e-02,  1.33485746e+00,  1.88257744e-01,\n",
       "         9.66760164e-01],\n",
       "       [-9.75904046e-02, -2.76410023e-01,  1.88257744e-01,\n",
       "        -4.47720896e-01],\n",
       "       [-2.73807730e-02,  8.64665522e-01,  6.99734264e-01,\n",
       "         4.95266477e-01],\n",
       "       [ 5.26007643e-01,  4.59753075e+00,  1.21121078e+00,\n",
       "         4.95266477e-01],\n",
       "       [-9.27147358e-02, -4.48431462e-01, -8.34695295e-01,\n",
       "        -4.47720896e-01],\n",
       "       [-3.97756246e-03, -3.55800085e-02, -3.23218775e-01,\n",
       "         2.37727909e-02],\n",
       "       [-9.85655384e-02, -8.49814820e-01, -3.23218775e-01,\n",
       "        -4.47720896e-01],\n",
       "       [-3.97756246e-03,  4.63282164e-01,  1.88257744e-01,\n",
       "         4.95266477e-01],\n",
       "       [-1.16117946e-01, -8.67016963e-01, -8.34695295e-01,\n",
       "        -9.19214582e-01],\n",
       "       [-1.01490940e-01, -7.92474340e-01, -8.34695295e-01,\n",
       "        -9.19214582e-01],\n",
       "       [-7.71125954e-02, -2.93612167e-01, -3.23218775e-01,\n",
       "         4.95266477e-01],\n",
       "       [-1.12217411e-01, -6.77793381e-01, -3.23218775e-01,\n",
       "        -4.47720896e-01],\n",
       "       [ 4.67293937e-02,  1.15710197e+00,  6.99734264e-01,\n",
       "         1.43825385e+00],\n",
       "       [ 3.37319258e-01,  2.59061396e+00,  1.21121078e+00,\n",
       "         1.90974754e+00],\n",
       "       [-1.07341742e-01, -4.48431462e-01, -3.23218775e-01,\n",
       "        -4.47720896e-01],\n",
       "       [-2.88434737e-02,  1.02923752e-02,  6.99734264e-01,\n",
       "         4.95266477e-01],\n",
       "       [-1.01490940e-01, -1.04388584e-01,  1.88257744e-01,\n",
       "         2.37727909e-02],\n",
       "       [-1.11242277e-01, -9.24357443e-01, -8.34695295e-01,\n",
       "        -9.19214582e-01],\n",
       "       [-7.95504299e-02, -4.19761222e-01, -3.23218775e-01,\n",
       "        -4.47720896e-01],\n",
       "       [-7.71125954e-02, -5.05771942e-01, -3.23218775e-01,\n",
       "        -4.47720896e-01],\n",
       "       [-8.19882643e-02, -3.33750503e-01, -8.34695295e-01,\n",
       "        -4.47720896e-01],\n",
       "       [-9.80779715e-02, -2.19069543e-01,  1.88257744e-01,\n",
       "         4.95266477e-01],\n",
       "       [-7.71125954e-02, -5.63112421e-01, -8.34695295e-01,\n",
       "        -4.47720896e-01],\n",
       "       [-5.76099200e-02, -2.76410023e-01, -3.23218775e-01,\n",
       "         2.37727909e-02],\n",
       "       [-9.66152709e-02, -7.63804100e-01, -3.23218775e-01,\n",
       "        -4.47720896e-01],\n",
       "       [-1.16117946e-01, -8.95687203e-01, -8.34695295e-01,\n",
       "        -9.19214582e-01],\n",
       "       [-8.44260987e-02,  1.02923752e-02, -3.23218775e-01,\n",
       "         4.95266477e-01],\n",
       "       [-9.95406722e-02, -7.35133860e-01, -3.23218775e-01,\n",
       "        -9.19214582e-01],\n",
       "       [-9.66152709e-02, -4.48431462e-01, -3.23218775e-01,\n",
       "         2.37727909e-02],\n",
       "       [-2.83559068e-02,  8.70399570e-01,  6.99734264e-01,\n",
       "         4.95266477e-01],\n",
       "       [-1.13680112e-01, -8.78485059e-01, -8.34695295e-01,\n",
       "        -9.19214582e-01],\n",
       "       [ 2.04007819e-02,  3.16401876e+00,  1.88257744e-01,\n",
       "         2.37727909e-02],\n",
       "       [ 1.17914159e-01,  2.30391156e+00, -3.23218775e-01,\n",
       "         2.37727909e-02],\n",
       "       [-2.83559068e-02,  1.02923752e-02,  1.88257744e-01,\n",
       "        -4.47720896e-01],\n",
       "       [-1.07829309e-01, -2.19069543e-01,  1.88257744e-01,\n",
       "         2.37727909e-02],\n",
       "       [-7.22369266e-02,  3.54335253e-01, -3.23218775e-01,\n",
       "         2.37727909e-02],\n",
       "       [-9.22271689e-02,  1.82313814e-01, -3.23218775e-01,\n",
       "         2.37727909e-02],\n",
       "       [-7.71125954e-02, -1.27324776e-01,  6.99734264e-01,\n",
       "         2.37727909e-02],\n",
       "       [-6.68736908e-02,  1.02037143e-01,  1.88257744e-01,\n",
       "         4.95266477e-01],\n",
       "       [ 1.17914159e-01,  1.44380437e+00,  1.21121078e+00,\n",
       "         4.95266477e-01],\n",
       "       [-1.20993615e-01, -8.78485059e-01, -8.34695295e-01,\n",
       "        -9.19214582e-01],\n",
       "       [ 2.71497728e-01,  1.32912341e+00,  6.99734264e-01,\n",
       "         1.43825385e+00],\n",
       "       [-1.16117946e-01, -9.30091491e-01, -8.34695295e-01,\n",
       "        -9.19214582e-01],\n",
       "       [-1.01490940e-01, -1.61729064e-01,  1.88257744e-01,\n",
       "         2.37727909e-02],\n",
       "       [-1.02466074e-01, -7.63804100e-01, -3.23218775e-01,\n",
       "        -9.19214582e-01],\n",
       "       [-9.95406722e-02, -6.77793381e-01, -3.23218775e-01,\n",
       "         2.37727909e-02],\n",
       "       [-1.11242277e-01, -8.78485059e-01, -3.23218775e-01,\n",
       "        -9.19214582e-01],\n",
       "       [-8.93017676e-02, -2.76410023e-01,  1.88257744e-01,\n",
       "        -4.47720896e-01],\n",
       "       [ 5.42097350e-01,  2.87731636e+00,  6.99734264e-01,\n",
       "         9.66760164e-01],\n",
       "       [-1.01490940e-01, -7.63804100e-01, -3.23218775e-01,\n",
       "        -4.47720896e-01],\n",
       "       [-6.68736908e-02,  1.13505239e-01,  1.88257744e-01,\n",
       "         4.95266477e-01],\n",
       "       [ 4.47791262e-02,  5.83697172e-01,  1.72268730e+00,\n",
       "         9.66760164e-01],\n",
       "       [-7.66250285e-02, -2.76410023e-01,  1.88257744e-01,\n",
       "         4.95266477e-01],\n",
       "       [-1.12704978e-01, -7.92474340e-01, -8.34695295e-01,\n",
       "        -4.47720896e-01],\n",
       "       [-7.71125954e-02, -4.48431462e-01,  1.88257744e-01,\n",
       "         2.37727909e-02],\n",
       "       [ 5.42097350e-01,  2.87731636e+00,  6.99734264e-01,\n",
       "         1.43825385e+00],\n",
       "       [-9.27147358e-02, -2.64941927e-01, -3.23218775e-01,\n",
       "         2.37727909e-02],\n",
       "       [-7.71125954e-02,  1.44380437e+00,  6.99734264e-01,\n",
       "         9.66760164e-01],\n",
       "       [-1.23431450e-01, -7.69538148e-01, -8.34695295e-01,\n",
       "        -4.47720896e-01],\n",
       "       [-1.13680112e-01, -9.30091491e-01, -8.34695295e-01,\n",
       "        -9.19214582e-01],\n",
       "       [ 8.21160969e-03,  5.83697172e-01,  1.88257744e-01,\n",
       "         4.95266477e-01],\n",
       "       [-1.01490940e-01, -3.33750503e-01, -3.23218775e-01,\n",
       "        -4.47720896e-01],\n",
       "       [-1.01490940e-01, -4.48431462e-01, -3.23218775e-01,\n",
       "         2.37727909e-02],\n",
       "       [-1.06366609e-01, -8.21144580e-01, -3.23218775e-01,\n",
       "        -9.19214582e-01],\n",
       "       [-5.27342511e-02, -4.14027174e-01, -3.23218775e-01,\n",
       "        -4.47720896e-01],\n",
       "       [ 3.33594083e-03,  5.83697172e-01,  1.88257744e-01,\n",
       "         2.37727909e-02],\n",
       "       [-9.56401371e-02, -4.08293126e-01, -3.23218775e-01,\n",
       "         2.37727909e-02],\n",
       "       [-7.71125954e-02, -1.33058824e-01, -3.23218775e-01,\n",
       "        -4.47720896e-01],\n",
       "       [-3.97756246e-03,  5.83697172e-01,  1.21121078e+00,\n",
       "         9.66760164e-01],\n",
       "       [-6.73612577e-02,  2.96994773e-01,  6.99734264e-01,\n",
       "         9.66760164e-01],\n",
       "       [-1.01490940e-01, -6.77793381e-01, -3.23218775e-01,\n",
       "        -9.19214582e-01],\n",
       "       [-1.16117946e-01, -7.92474340e-01, -8.34695295e-01,\n",
       "        -4.47720896e-01],\n",
       "       [-3.97756246e-03,  3.37133109e-01,  6.99734264e-01,\n",
       "         4.95266477e-01],\n",
       "       [-9.17396020e-02, -5.05771942e-01, -3.23218775e-01,\n",
       "         2.37727909e-02],\n",
       "       [-9.80779715e-02, -5.22974086e-01, -3.23218775e-01,\n",
       "         4.95266477e-01],\n",
       "       [-1.01003373e-01, -5.05771942e-01, -3.23218775e-01,\n",
       "         2.37727909e-02],\n",
       "       [-1.01490940e-01, -4.48431462e-01, -3.23218775e-01,\n",
       "         4.95266477e-01],\n",
       "       [-9.61277040e-02, -4.48431462e-01,  1.88257744e-01,\n",
       "         2.37727909e-02],\n",
       "       [ 2.78811232e-01,  8.99069810e-01,  1.88257744e-01,\n",
       "         4.95266477e-01],\n",
       "       [-1.01490940e-01, -8.49814820e-01, -3.23218775e-01,\n",
       "        -4.47720896e-01],\n",
       "       [-7.71125954e-02, -6.26186949e-01, -3.23218775e-01,\n",
       "        -4.47720896e-01],\n",
       "       [-1.22943883e-01, -8.49814820e-01, -8.34695295e-01,\n",
       "        -4.47720896e-01],\n",
       "       [ 5.77377526e-03,  5.26356692e-01,  1.88257744e-01,\n",
       "         1.43825385e+00],\n",
       "       [-1.07829309e-01, -2.19069543e-01,  1.88257744e-01,\n",
       "         4.95266477e-01],\n",
       "       [-1.22943883e-01, -8.49814820e-01, -8.34695295e-01,\n",
       "        -4.47720896e-01],\n",
       "       [ 2.64184225e-01,  2.74058582e-01,  4.79154642e+00,\n",
       "         1.43825385e+00],\n",
       "       [-1.16117946e-01, -8.78485059e-01, -8.34695295e-01,\n",
       "        -4.47720896e-01],\n",
       "       [ 6.74890904e-03,  8.70399570e-01,  1.88257744e-01,\n",
       "         4.95266477e-01],\n",
       "       [-1.01490940e-01, -7.35133860e-01, -3.23218775e-01,\n",
       "        -4.47720896e-01],\n",
       "       [-1.02466074e-01, -3.62420743e-01, -3.23218775e-01,\n",
       "         2.37727909e-02],\n",
       "       [ 6.95680919e-01,  4.30509430e+00,  6.99734264e-01,\n",
       "         2.37727909e-02],\n",
       "       [-7.71125954e-02, -2.19069543e-01, -3.23218775e-01,\n",
       "         2.37727909e-02]])"
      ]
     },
     "execution_count": 69,
     "metadata": {},
     "output_type": "execute_result"
    }
   ],
   "source": [
    "from sklearn import preprocessing\n",
    "\n",
    "scaler = preprocessing.StandardScaler().fit(X_train)\n",
    "scaler.transform(X_train)\n",
    "scaler.transform(X_test)"
   ]
  },
  {
   "cell_type": "code",
   "execution_count": 70,
   "metadata": {
    "collapsed": true
   },
   "outputs": [],
   "source": [
    "ly_best = 2\n",
    "nr_best = 10\n",
    "alpha_best = 0.05\n",
    "solver_best = 'lbfgs'\n",
    "mae_best = 1e10"
   ]
  },
  {
   "cell_type": "code",
   "execution_count": 71,
   "metadata": {},
   "outputs": [
    {
     "name": "stdout",
     "output_type": "stream",
     "text": [
      " \n",
      "Jumlah Hidden Optimal:  4\n",
      "Jumlah Neuron Optimal:  62\n",
      "MAE terendah: 702727863.4306124\n"
     ]
    }
   ],
   "source": [
    "a = 1\n",
    "for i in range(0,1000):\n",
    "    ly = np.random.randint(1,5)\n",
    "    nr = np.random.randint(5,100)\n",
    "    clf = MLPRegressor(solver=solver_best, alpha=alpha_best,\n",
    "                       hidden_layer_sizes=(nr, ly), random_state=1, \n",
    "                       max_iter=1000, activation='relu')\n",
    "    clf.fit(X_train,Y_train)\n",
    "    yhat = clf.predict(X_train)\n",
    "    mae = mean_absolute_error(Y_train, yhat)\n",
    "    if(mae < mae_best):\n",
    "        mae_best = mae\n",
    "        ly_best = ly\n",
    "        nr_best = nr\n",
    "    a = a + 1\n",
    "    \n",
    "print(' ')\n",
    "print(\"Jumlah Hidden Optimal: \", ly_best)\n",
    "print(\"Jumlah Neuron Optimal: \", nr_best)\n",
    "print(\"MAE terendah:\", mae_best)"
   ]
  },
  {
   "cell_type": "code",
   "execution_count": 72,
   "metadata": {},
   "outputs": [
    {
     "name": "stdout",
     "output_type": "stream",
     "text": [
      " \n",
      "Learning Rate terbaik:  0.05\n",
      "Optimisasi terbaik:  lbfgs\n",
      "MAE terendah: 702727863.4306124\n"
     ]
    }
   ],
   "source": [
    "alpha_test = [1e-5, 5e-5, 1e-4, 5e-4, 0.001, 0.005, 0.01, 0.05, 0.1, 0.5]\n",
    "solver_test = ['lbfgs', 'sgd', 'adam']\n",
    "\n",
    "a = 1\n",
    "for i in range(len(alpha_test)):\n",
    "    for j in range(len(solver_test)):\n",
    "        clf = MLPRegressor(solver=solver_test[j], alpha=alpha_test[i],\n",
    "                           hidden_layer_sizes=(nr_best, ly_best), random_state=1, \n",
    "                           max_iter=1000, activation='relu')\n",
    "        clf.fit(X_train,Y_train)\n",
    "        yhat = clf.predict(X_train)\n",
    "        mae = mean_absolute_error(Y_train, yhat)\n",
    "        if(mae < mae_best):\n",
    "            mae_best = mae\n",
    "            alpha_best = alpha_test[i]\n",
    "            solver_best = solver_test[j]\n",
    "        a = a + 1\n",
    "    \n",
    "print(' ')\n",
    "print(\"Learning Rate terbaik: \", alpha_best)\n",
    "print(\"Optimisasi terbaik: \", solver_best)\n",
    "print(\"MAE terendah:\", mae_best)"
   ]
  },
  {
   "cell_type": "code",
   "execution_count": 73,
   "metadata": {},
   "outputs": [
    {
     "data": {
      "text/plain": [
       "MLPRegressor(activation='relu', alpha=0.05, batch_size='auto', beta_1=0.9,\n",
       "       beta_2=0.999, early_stopping=False, epsilon=1e-08,\n",
       "       hidden_layer_sizes=(62, 4), learning_rate='constant',\n",
       "       learning_rate_init=0.001, max_iter=1000, momentum=0.9,\n",
       "       n_iter_no_change=10, nesterovs_momentum=True, power_t=0.5,\n",
       "       random_state=1, shuffle=True, solver='lbfgs', tol=0.0001,\n",
       "       validation_fraction=0.1, verbose=False, warm_start=False)"
      ]
     },
     "execution_count": 73,
     "metadata": {},
     "output_type": "execute_result"
    }
   ],
   "source": [
    "from sklearn.neural_network import MLPRegressor\n",
    "from sklearn.metrics import mean_absolute_error\n",
    "\n",
    "clf = MLPRegressor(solver=solver_best, alpha=alpha_best,\n",
    "                   hidden_layer_sizes=(nr_best, ly_best), random_state=1, \n",
    "                   max_iter=1000, activation='relu')\n",
    "clf.fit(X_train,Y_train)"
   ]
  },
  {
   "cell_type": "code",
   "execution_count": 74,
   "metadata": {},
   "outputs": [
    {
     "name": "stdout",
     "output_type": "stream",
     "text": [
      "MAE:  702727863.4306124\n",
      "Residual sum of squares (MSE): 1605084643127997440.00\n",
      "R2-score: 0.93\n"
     ]
    }
   ],
   "source": [
    "yhat = clf.predict(X_train)\n",
    "mae = mean_absolute_error(Y_train, yhat)\n",
    "\n",
    "print(\"MAE: \", mae)\n",
    "print(\"Residual sum of squares (MSE): %.2f\" % np.mean((Y_train - yhat) ** 2))\n",
    "print(\"R2-score: %.2f\" % r2_score(Y_train, yhat))"
   ]
  },
  {
   "cell_type": "code",
   "execution_count": 75,
   "metadata": {},
   "outputs": [
    {
     "data": {
      "image/png": "[encoded data removed]",
      "text/plain": [
       "<matplotlib.figure.Figure at 0x13221068f60>"
      ]
     },
     "metadata": {},
     "output_type": "display_data"
    }
   ],
   "source": [
    "t = np.arange(Y_train.shape[0])\n",
    "\n",
    "plt.figure(figsize=(16,4))\n",
    "plt.title('Prediksi Data Latih')\n",
    "#plt.xticks(t, tahun_t, rotation='vertical')\n",
    "plt.plot(t[0:50], yhat[0:50], 'ro')\n",
    "plt.plot(t[0:50], yhat[0:50], 'r--', label='Prediksi')\n",
    "plt.plot(t[0:50], Y_train[0:50], 'gs')\n",
    "plt.plot(t[0:50], Y_train[0:50], 'g--', label='Aktual')\n",
    "plt.xlabel('Data-ke', fontsize=10)\n",
    "plt.ylabel('Harga', fontsize=10)\n",
    "plt.legend()\n",
    "plt.show()"
   ]
  },
  {
   "cell_type": "code",
   "execution_count": 76,
   "metadata": {},
   "outputs": [
    {
     "name": "stdout",
     "output_type": "stream",
     "text": [
      "MAE:  7254292497.058576\n",
      "Residual sum of squares (MSE): 6370400616878577811456.00\n",
      "R2-score: -0.01\n"
     ]
    }
   ],
   "source": [
    "# Data Test\n",
    "\n",
    "yhat = clf.predict(X_test)\n",
    "mae = mean_absolute_error(Y_test, yhat)\n",
    "\n",
    "print(\"MAE: \", mae)\n",
    "print(\"Residual sum of squares (MSE): %.2f\" % np.mean((Y_test - yhat) ** 2))\n",
    "print(\"R2-score: %.2f\" % r2_score(Y_test, yhat))"
   ]
  },
  {
   "cell_type": "code",
   "execution_count": 77,
   "metadata": {},
   "outputs": [
    {
     "data": {
      "image/png": "[encoded data removed]",
      "text/plain": [
       "<matplotlib.figure.Figure at 0x1322132a3c8>"
      ]
     },
     "metadata": {},
     "output_type": "display_data"
    }
   ],
   "source": [
    "t = np.arange(Y_test.shape[0])\n",
    "\n",
    "plt.figure(figsize=(16,4))\n",
    "plt.title('Prediksi Data Uji')\n",
    "#plt.xticks(t, tahun_t, rotation='vertical')\n",
    "plt.plot(t[0:50], yhat[0:50], 'ro')\n",
    "plt.plot(t[0:50], yhat[0:50], 'r--', label='Prediksi')\n",
    "plt.plot(t[0:50], Y_test[0:50], 'gs')\n",
    "plt.plot(t[0:50], Y_test[0:50], 'g--', label='Aktual')\n",
    "plt.xlabel('Data-ke', fontsize=10)\n",
    "plt.ylabel('Harga', fontsize=10)\n",
    "plt.legend()\n",
    "plt.show()"
   ]
  },
  {
   "cell_type": "code",
   "execution_count": 78,
   "metadata": {},
   "outputs": [
    {
     "data": {
      "text/html": [
       "<div>\n",
       "<style scoped>\n",
       "    .dataframe tbody tr th:only-of-type {\n",
       "        vertical-align: middle;\n",
       "    }\n",
       "\n",
       "    .dataframe tbody tr th {\n",
       "        vertical-align: top;\n",
       "    }\n",
       "\n",
       "    .dataframe thead th {\n",
       "        text-align: right;\n",
       "    }\n",
       "</style>\n",
       "<table border=\"1\" class=\"dataframe\">\n",
       "  <thead>\n",
       "    <tr style=\"text-align: right;\">\n",
       "      <th></th>\n",
       "      <th>luas_tanah(m2)</th>\n",
       "      <th>luas_bangunan(m2)</th>\n",
       "      <th>jumlah_kamar</th>\n",
       "      <th>jumlah_WC</th>\n",
       "    </tr>\n",
       "  </thead>\n",
       "  <tbody>\n",
       "    <tr>\n",
       "      <th>0</th>\n",
       "      <td>150</td>\n",
       "      <td>147</td>\n",
       "      <td>3</td>\n",
       "      <td>2</td>\n",
       "    </tr>\n",
       "    <tr>\n",
       "      <th>1</th>\n",
       "      <td>90</td>\n",
       "      <td>140</td>\n",
       "      <td>4</td>\n",
       "      <td>2</td>\n",
       "    </tr>\n",
       "    <tr>\n",
       "      <th>2</th>\n",
       "      <td>112</td>\n",
       "      <td>112</td>\n",
       "      <td>4</td>\n",
       "      <td>2</td>\n",
       "    </tr>\n",
       "    <tr>\n",
       "      <th>3</th>\n",
       "      <td>145</td>\n",
       "      <td>125</td>\n",
       "      <td>3</td>\n",
       "      <td>2</td>\n",
       "    </tr>\n",
       "    <tr>\n",
       "      <th>4</th>\n",
       "      <td>115</td>\n",
       "      <td>100</td>\n",
       "      <td>3</td>\n",
       "      <td>3</td>\n",
       "    </tr>\n",
       "  </tbody>\n",
       "</table>\n",
       "</div>"
      ],
      "text/plain": [
       "   luas_tanah(m2)  luas_bangunan(m2)  jumlah_kamar  jumlah_WC\n",
       "0             150                147             3          2\n",
       "1              90                140             4          2\n",
       "2             112                112             4          2\n",
       "3             145                125             3          2\n",
       "4             115                100             3          3"
      ]
     },
     "execution_count": 78,
     "metadata": {},
     "output_type": "execute_result"
    }
   ],
   "source": [
    "df2 = pd.read_csv(\"data/rumah_data_baru.csv\")\n",
    "df2 = df2.dropna()\n",
    "df2 = df2.drop(columns=['deskripsi'])\n",
    "df2.head()"
   ]
  },
  {
   "cell_type": "code",
   "execution_count": 79,
   "metadata": {},
   "outputs": [
    {
     "data": {
      "text/plain": [
       "array([1.75909946e+09, 1.02603620e+09, 1.05438192e+09, 1.59939859e+09,\n",
       "       1.49498721e+09, 6.86750961e+08, 1.94819369e+09, 6.02422309e+08,\n",
       "       6.28816654e+08, 1.55916297e+09, 6.96373960e+09, 2.14363841e+09,\n",
       "       1.55916297e+09, 5.64468137e+09, 2.51117474e+09, 6.21535256e+09,\n",
       "       1.59790869e+09, 1.01041673e+09, 4.16450234e+09, 6.02422309e+08,\n",
       "       3.54437268e+08, 3.44808553e+08, 3.23905839e+09, 6.05981603e+08,\n",
       "       8.80736322e+08, 1.25527241e+09, 1.55916297e+09, 6.64199966e+09,\n",
       "       3.25190344e+09, 3.07038204e+09, 2.67666779e+09, 1.97095100e+09,\n",
       "       1.54255766e+09, 6.45200038e+09, 5.33210679e+09, 5.78844036e+08,\n",
       "       3.36887222e+09, 6.86750961e+08, 1.49498721e+09, 4.09959682e+09,\n",
       "       1.54677184e+10, 1.42564665e+10, 1.42564665e+10, 2.03293635e+09,\n",
       "       1.63720537e+09, 6.00628077e+09, 2.00874524e+09, 1.20136078e+09,\n",
       "       7.37170588e+09, 2.08813019e+09, 1.69010655e+09, 2.53980075e+09,\n",
       "       3.43278700e+09, 6.32016368e+08, 3.10016178e+09, 2.63006194e+09,\n",
       "       7.32264644e+09, 7.35421910e+09, 1.37342061e+09, 4.08535923e+09])"
      ]
     },
     "execution_count": 79,
     "metadata": {},
     "output_type": "execute_result"
    }
   ],
   "source": [
    "X_predict = np.asarray(df2)\n",
    "scaler.transform(X_predict)\n",
    "yhat_predict = clf.predict(X_predict)\n",
    "\n",
    "yhat_predict"
   ]
  },
  {
   "cell_type": "code",
   "execution_count": 80,
   "metadata": {},
   "outputs": [
    {
     "data": {
      "image/png": "[encoded data removed]",
      "text/plain": [
       "<matplotlib.figure.Figure at 0x1322130c4a8>"
      ]
     },
     "metadata": {},
     "output_type": "display_data"
    }
   ],
   "source": [
    "t = np.arange(yhat_predict.shape[0])\n",
    "\n",
    "plt.figure(figsize=(16,4))\n",
    "plt.title('Prediksi Data Baru')\n",
    "plt.plot(t[0:50], yhat_predict[0:50], 'ro')\n",
    "plt.plot(t[0:50], yhat_predict[0:50], 'r--', label='Prediksi')\n",
    "plt.xlabel('Data-ke', fontsize=10)\n",
    "plt.ylabel('Harga', fontsize=10)\n",
    "plt.legend()\n",
    "plt.show()"
   ]
  },
  {
   "cell_type": "code",
   "execution_count": 81,
   "metadata": {},
   "outputs": [
    {
     "name": "stdout",
     "output_type": "stream",
     "text": [
      "Luas Tanah (m2): 250\n",
      "Luas Bangunan (m2): 150\n",
      "Jumlah Kamar: 3\n",
      "Jumlah WC: 2\n",
      " \n",
      "Prediksi Harga Rumah: Rp. 2690743008.5297165\n"
     ]
    }
   ],
   "source": [
    "tanah = float(input('Luas Tanah (m2): '))\n",
    "bangunan = float(input('Luas Bangunan (m2): '))\n",
    "kamar = float(input('Jumlah Kamar: '))\n",
    "wc = float(input('Jumlah WC: '))\n",
    "\n",
    "X_new = [[tanah,bangunan,kamar,wc]]\n",
    "scaler.transform(X_new)\n",
    "\n",
    "yhat_new = clf.predict(X_new)\n",
    "\n",
    "print(' ')\n",
    "print('Prediksi Harga Rumah: Rp.', yhat_new[0])"
   ]
  },
  {
   "cell_type": "code",
   "execution_count": null,
   "metadata": {
    "collapsed": true
   },
   "outputs": [],
   "source": []
  }
 ],
 "metadata": {
  "kernelspec": {
   "display_name": "Python 3",
   "language": "python",
   "name": "python3"
  },
  "language_info": {
   "codemirror_mode": {
    "name": "ipython",
    "version": 3
   },
   "file_extension": ".py",
   "mimetype": "text/x-python",
   "name": "python",
   "nbconvert_exporter": "python",
   "pygments_lexer": "ipython3",
   "version": "3.6.1"
  }
 },
 "nbformat": 4,
 "nbformat_minor": 2
}

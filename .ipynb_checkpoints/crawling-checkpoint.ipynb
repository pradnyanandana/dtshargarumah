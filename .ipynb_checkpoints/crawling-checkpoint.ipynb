{
 "cells": [
  {
   "cell_type": "code",
   "execution_count": 3,
   "metadata": {},
   "outputs": [
    {
     "name": "stdout",
     "output_type": "stream",
     "text": [
      "Crawl starting ...\n",
      "\n",
      "---------------------------------------\n",
      "Get Home  1 start\n",
      "['850', 'juta']\n",
      "['3.1', 'miliar']\n",
      "['16.5', 'miliar']\n",
      "['2.25', 'miliar']\n",
      "['2.75', 'miliar']\n",
      "['1.8', 'miliar']\n",
      "['1.75', 'miliar']\n",
      "['1.9', 'miliar']\n",
      "['2.85', 'miliar']\n",
      "['3', 'miliar']\n",
      "['975', 'juta']\n",
      "['1.5', 'miliar']\n",
      "Crawl finished ...\n"
     ]
    }
   ],
   "source": [
    "from bs4 import BeautifulSoup\n",
    "import urllib.request\n",
    "import re\n",
    "import pandas as pd\n",
    "    \n",
    "print(\"Crawl starting ...\")\n",
    "\n",
    "url=[]\n",
    "content=['','','','','','']\n",
    "contents=[]\n",
    "filmList = []\n",
    "counter=1\n",
    "\n",
    "print(\"\\n---------------------------------------\")\n",
    "print(\"Get Home \",counter,\"start\")\n",
    "for x in range(0,1):\n",
    "\n",
    "    url=\"https://rumahdijual.com/carirumah.php?transaksi=BELI&jenis=RUMAH&kota=Bali&minprice=0&maxprice=0&ltmin=0&ktmin=0&q=denpasar&p=%d\" % (x+1)\n",
    "    hdr = { 'User-Agent' : 'Mozilla/5.0 (Windows NT 6.1; rv:57.0) Gecko/20100101 Firefox/57.0' }\n",
    "    req = urllib.request.Request(url, headers=hdr)\n",
    "    page = urllib.request.urlopen(req)\n",
    "    soup = BeautifulSoup(page, 'html.parser')\n",
    "    regex = re.compile('tblSearchResultRow')\n",
    "\n",
    "    content_lis = soup.find_all('table', attrs={'class': regex})\n",
    "    for el in content_lis:\n",
    "        childTitle = el.findChildren(\"td\", {'class': 'tdInfoSpec hide-sm'}, recursive=True)[0]\n",
    "        childTitleText = childTitle.findChildren(\"div\", recursive=True)[0]\n",
    "        strHarga = childTitleText.getText().split()\n",
    "        if(strHarga[1] == 'juta'):\n",
    "            hargaRumah = strHarga[0] * 1000000\n",
    "        else(strHarga[1] == 'miliar'):\n",
    "            hargaRumah = strHarga[0] * 1000000000\n",
    "        else:\n",
    "            hargaRumah = 0\n",
    "        print(strHarga)\n",
    "\n",
    "#         contents.append(content.copy())\n",
    "\n",
    "# print(\"\\nGet movie \",counter,\" review finished\")\n",
    "# counter+=1\n",
    "    \n",
    "# df=pd.DataFrame(contents)\n",
    "# df.columns = ['id_film','rating','month','year','review','review_detail']\n",
    "# df.to_csv('data/review_data.csv',  index=False)\n",
    "\n",
    "\n",
    "# df_film=pd.DataFrame(filmList)\n",
    "# df_film.columns = ['id_film','title']\n",
    "# df_film.to_csv('data/film_data.csv',  index=False)\n",
    "\n",
    "# print(\"\\n---------------------------------------\")\n",
    "print(\"Crawl finished ...\")"
   ]
  },
  {
   "cell_type": "code",
   "execution_count": null,
   "metadata": {
    "collapsed": true
   },
   "outputs": [],
   "source": []
  }
 ],
 "metadata": {
  "kernelspec": {
   "display_name": "Python 3",
   "language": "python",
   "name": "python3"
  },
  "language_info": {
   "codemirror_mode": {
    "name": "ipython",
    "version": 3
   },
   "file_extension": ".py",
   "mimetype": "text/x-python",
   "name": "python",
   "nbconvert_exporter": "python",
   "pygments_lexer": "ipython3",
   "version": "3.6.1"
  }
 },
 "nbformat": 4,
 "nbformat_minor": 2
}
